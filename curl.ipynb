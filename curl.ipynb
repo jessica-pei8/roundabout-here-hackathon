{
 "cells": [
  {
   "cell_type": "code",
   "execution_count": 84,
   "metadata": {},
   "outputs": [
    {
     "name": "stdout",
     "output_type": "stream",
     "text": [
      "Maximum Curl Value: 1.6289802770695891\n",
      "Maximum Curl Value: 1.5100218471219475\n",
      "Maximum Curl Value: 1.7661341797593961\n",
      "Maximum Curl Value: 1.3879292974005162\n",
      "Maximum Curl Value: 1.5677115638989825\n",
      "Maximum Curl Value: 1.5516493998398841\n",
      "Maximum Curl Value: 1.4051172326849573\n",
      "Maximum Curl Value: 1.6516501113922488\n",
      "Maximum Curl Value: 1.4747768598323454\n",
      "Maximum Curl Value: 1.558362589089844\n",
      "Maximum Curl Value: 1.4240142295106528\n",
      "Maximum Curl Value: 1.5184691154476262\n",
      "Maximum Curl Value: 1.603234160769151\n",
      "Maximum Curl Value: 1.474486606209934\n",
      "Maximum Curl Value: 1.5033507566343345\n",
      "[(53.549155443992525, 9.960136950415801), (53.62829169407273, 10.147640025949919), (53.556297801229306, 10.04958506172926), (53.60720896255637, 9.856829465314913), (53.58905024611408, 10.045448158794379), (53.49730069832639, 10.01285609774633), (53.44021403959596, 10.306387097357195), (53.45703795837117, 9.991070414373942), (53.593449594706975, 10.11329620292839), (53.61809963447439, 9.907365987937936), (53.50189525082713, 10.209662055121145), (53.60749511532953, 10.190694561847984), (53.57631413333299, 9.964438953080155), (53.57972929735475, 9.989607725555555), (53.527899219254934, 10.147685636619801)]\n"
     ]
    }
   ],
   "source": [
    "import pandas as pd\n",
    "import numpy as np\n",
    "import matplotlib.pyplot as plt\n",
    "import os\n",
    "from scipy.interpolate import griddata\n",
    "from make_more_efficient import *\n",
    "\n",
    "\n",
    "def findRoundAbouts(datapath:str):\n",
    "    allRoundabouts = []\n",
    "    for i in range(0,15):\n",
    "        folder_path = datapath + str(i)\n",
    "\n",
    "        data_frames = []\n",
    "        for file_name in os.listdir(folder_path):\n",
    "            file_path = os.path.join(folder_path, file_name)\n",
    "            df = pd.read_csv(file_path)\n",
    "            data_frames.append(df)\n",
    "\n",
    "        data = pd.concat(data_frames, ignore_index=True)\n",
    "        data = data[(data['speed'] >= 25) & (data['speed'] <= 45)]\n",
    "        data['heading_rad'] = np.radians(data['heading'])\n",
    "        data['vx'] = np.cos(data['heading_rad'])  \n",
    "        data['vy'] = np.sin(data['heading_rad'])\n",
    "        grid_lon = np.linspace(data['longitude'].min(), data['longitude'].max(), 100)\n",
    "        grid_lat = np.linspace(data['latitude'].min(), data['latitude'].max(), 100)\n",
    "        grid_lon, grid_lat = np.meshgrid(grid_lon, grid_lat)\n",
    "        grid_vx = griddata((data['longitude'], data['latitude']), data['vx'], (grid_lon, grid_lat), method='linear')\n",
    "        grid_vy = griddata((data['longitude'], data['latitude']), data['vy'], (grid_lon, grid_lat), method='linear')\n",
    "\n",
    "        curl = np.gradient(grid_vy, axis=0) - np.gradient(grid_vx, axis=1)\n",
    "        max_curl = np.nanmax(curl) \n",
    "        print(\"Maximum Curl Value:\", max_curl)\n",
    "        threshold =  0.9 * max_curl \n",
    "        near_max_curl_indices = np.argwhere(curl >= threshold)\n",
    "\n",
    "        near_max_curl_points = []\n",
    "        for idx in near_max_curl_indices:\n",
    "            lon_idx, lat_idx = idx[1], idx[0]  \n",
    "            lon = grid_lon[lon_idx][lat_idx]\n",
    "            lat = grid_lat[lon_idx][lat_idx]\n",
    "            near_max_curl_points.append((lat,lon))\n",
    "\n",
    "        near_max_curl_df = pd.DataFrame(near_max_curl_points, columns=['Latitude',''])\n",
    "        near_max_curl_df = pd.DataFrame(near_max_curl_points, columns=['Latitude','Longitude'])\n",
    "\n",
    "        average_lat = near_max_curl_df['Latitude'].mean()\n",
    "        average_lon = near_max_curl_df['Longitude'].mean()\n",
    "        allRoundabouts.append((average_lat, average_lon))\n",
    "\n"
   ]
  }
 ],
 "metadata": {
  "kernelspec": {
   "display_name": "Python 3",
   "language": "python",
   "name": "python3"
  },
  "language_info": {
   "codemirror_mode": {
    "name": "ipython",
    "version": 3
   },
   "file_extension": ".py",
   "mimetype": "text/x-python",
   "name": "python",
   "nbconvert_exporter": "python",
   "pygments_lexer": "ipython3",
   "version": "3.9.6"
  }
 },
 "nbformat": 4,
 "nbformat_minor": 2
}
